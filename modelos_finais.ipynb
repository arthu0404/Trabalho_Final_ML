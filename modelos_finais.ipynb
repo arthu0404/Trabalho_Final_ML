{
 "cells": [
  {
   "cell_type": "markdown",
   "id": "d44ea453",
   "metadata": {},
   "source": [
    "## **Notebook com os Modelos finais**"
   ]
  },
  {
   "cell_type": "markdown",
   "id": "66c83cb8",
   "metadata": {},
   "source": [
    "### **Importando as bibliotecas necessárias**"
   ]
  },
  {
   "cell_type": "code",
   "execution_count": 1,
   "id": "ae229090",
   "metadata": {},
   "outputs": [],
   "source": [
    "import numpy as np\n",
    "import pandas as pd\n",
    "import sklearn as sk\n",
    "import matplotlib.pyplot as plt\n",
    "from optuna import create_study\n",
    "from sklearn.model_selection import train_test_split\n",
    "from sklearn.pipeline import make_pipeline\n",
    "from sklearn.preprocessing import OneHotEncoder, StandardScaler, MaxAbsScaler, MinMaxScaler\n",
    "from sklearn.ensemble import RandomForestClassifier\n",
    "from sklearn.neighbors import KNeighborsClassifier\n",
    "from sklearn.model_selection import cross_val_score\n",
    "from sklearn.metrics import accuracy_score\n",
    "from sklearn.dummy import DummyClassifier\n",
    "from sklearn.tree import DecisionTreeClassifier, plot_tree"
   ]
  },
  {
   "cell_type": "markdown",
   "id": "c8224d56",
   "metadata": {},
   "source": [
    "### **Importando o dataset**"
   ]
  },
  {
   "cell_type": "code",
   "execution_count": 2,
   "id": "e91207d4",
   "metadata": {},
   "outputs": [
    {
     "data": {
      "text/plain": [
       "(666, 17)"
      ]
     },
     "metadata": {},
     "output_type": "display_data"
    },
    {
     "data": {
      "text/html": [
       "<div>\n",
       "<style scoped>\n",
       "    .dataframe tbody tr th:only-of-type {\n",
       "        vertical-align: middle;\n",
       "    }\n",
       "\n",
       "    .dataframe tbody tr th {\n",
       "        vertical-align: top;\n",
       "    }\n",
       "\n",
       "    .dataframe thead th {\n",
       "        text-align: right;\n",
       "    }\n",
       "</style>\n",
       "<table border=\"1\" class=\"dataframe\">\n",
       "  <thead>\n",
       "    <tr style=\"text-align: right;\">\n",
       "      <th></th>\n",
       "      <th>Material_type</th>\n",
       "      <th>Core_size</th>\n",
       "      <th>Hydro_size</th>\n",
       "      <th>Surface_charge</th>\n",
       "      <th>Surface_area</th>\n",
       "      <th>Formation_enthalpy</th>\n",
       "      <th>Conduction_band</th>\n",
       "      <th>Valence_band</th>\n",
       "      <th>Electronegativity</th>\n",
       "      <th>Assay</th>\n",
       "      <th>Cell_name</th>\n",
       "      <th>Cell_species</th>\n",
       "      <th>Cell_origin</th>\n",
       "      <th>Cell_type</th>\n",
       "      <th>Exposure_time</th>\n",
       "      <th>Exposure_dose</th>\n",
       "      <th>Toxicity</th>\n",
       "    </tr>\n",
       "  </thead>\n",
       "  <tbody>\n",
       "    <tr>\n",
       "      <th>0</th>\n",
       "      <td>Al2O3</td>\n",
       "      <td>39.7</td>\n",
       "      <td>267.0</td>\n",
       "      <td>36.3</td>\n",
       "      <td>64.7</td>\n",
       "      <td>-17.345</td>\n",
       "      <td>-1.51</td>\n",
       "      <td>-9.81</td>\n",
       "      <td>5.67</td>\n",
       "      <td>MTT</td>\n",
       "      <td>HCMEC</td>\n",
       "      <td>Human</td>\n",
       "      <td>Blood</td>\n",
       "      <td>Normal</td>\n",
       "      <td>24</td>\n",
       "      <td>0.001</td>\n",
       "      <td>Nontoxic</td>\n",
       "    </tr>\n",
       "    <tr>\n",
       "      <th>1</th>\n",
       "      <td>Al2O3</td>\n",
       "      <td>39.7</td>\n",
       "      <td>267.0</td>\n",
       "      <td>36.3</td>\n",
       "      <td>64.7</td>\n",
       "      <td>-17.345</td>\n",
       "      <td>-1.51</td>\n",
       "      <td>-9.81</td>\n",
       "      <td>5.67</td>\n",
       "      <td>MTT</td>\n",
       "      <td>HCMEC</td>\n",
       "      <td>Human</td>\n",
       "      <td>Blood</td>\n",
       "      <td>Normal</td>\n",
       "      <td>24</td>\n",
       "      <td>0.010</td>\n",
       "      <td>Nontoxic</td>\n",
       "    </tr>\n",
       "    <tr>\n",
       "      <th>2</th>\n",
       "      <td>Al2O3</td>\n",
       "      <td>39.7</td>\n",
       "      <td>267.0</td>\n",
       "      <td>36.3</td>\n",
       "      <td>64.7</td>\n",
       "      <td>-17.345</td>\n",
       "      <td>-1.51</td>\n",
       "      <td>-9.81</td>\n",
       "      <td>5.67</td>\n",
       "      <td>MTT</td>\n",
       "      <td>HCMEC</td>\n",
       "      <td>Human</td>\n",
       "      <td>Blood</td>\n",
       "      <td>Normal</td>\n",
       "      <td>24</td>\n",
       "      <td>0.100</td>\n",
       "      <td>Nontoxic</td>\n",
       "    </tr>\n",
       "    <tr>\n",
       "      <th>3</th>\n",
       "      <td>Al2O3</td>\n",
       "      <td>39.7</td>\n",
       "      <td>267.0</td>\n",
       "      <td>36.3</td>\n",
       "      <td>64.7</td>\n",
       "      <td>-17.345</td>\n",
       "      <td>-1.51</td>\n",
       "      <td>-9.81</td>\n",
       "      <td>5.67</td>\n",
       "      <td>MTT</td>\n",
       "      <td>HCMEC</td>\n",
       "      <td>Human</td>\n",
       "      <td>Blood</td>\n",
       "      <td>Normal</td>\n",
       "      <td>24</td>\n",
       "      <td>1.000</td>\n",
       "      <td>Nontoxic</td>\n",
       "    </tr>\n",
       "    <tr>\n",
       "      <th>4</th>\n",
       "      <td>Al2O3</td>\n",
       "      <td>39.7</td>\n",
       "      <td>267.0</td>\n",
       "      <td>36.3</td>\n",
       "      <td>64.7</td>\n",
       "      <td>-17.345</td>\n",
       "      <td>-1.51</td>\n",
       "      <td>-9.81</td>\n",
       "      <td>5.67</td>\n",
       "      <td>MTT</td>\n",
       "      <td>HCMEC</td>\n",
       "      <td>Human</td>\n",
       "      <td>Blood</td>\n",
       "      <td>Normal</td>\n",
       "      <td>24</td>\n",
       "      <td>5.000</td>\n",
       "      <td>Nontoxic</td>\n",
       "    </tr>\n",
       "  </tbody>\n",
       "</table>\n",
       "</div>"
      ],
      "text/plain": [
       "  Material_type  Core_size  Hydro_size  Surface_charge  Surface_area  \\\n",
       "0         Al2O3       39.7       267.0            36.3          64.7   \n",
       "1         Al2O3       39.7       267.0            36.3          64.7   \n",
       "2         Al2O3       39.7       267.0            36.3          64.7   \n",
       "3         Al2O3       39.7       267.0            36.3          64.7   \n",
       "4         Al2O3       39.7       267.0            36.3          64.7   \n",
       "\n",
       "   Formation_enthalpy  Conduction_band  Valence_band  Electronegativity Assay  \\\n",
       "0             -17.345            -1.51         -9.81               5.67   MTT   \n",
       "1             -17.345            -1.51         -9.81               5.67   MTT   \n",
       "2             -17.345            -1.51         -9.81               5.67   MTT   \n",
       "3             -17.345            -1.51         -9.81               5.67   MTT   \n",
       "4             -17.345            -1.51         -9.81               5.67   MTT   \n",
       "\n",
       "  Cell_name Cell_species Cell_origin Cell_type  Exposure_time  Exposure_dose  \\\n",
       "0     HCMEC        Human       Blood    Normal             24          0.001   \n",
       "1     HCMEC        Human       Blood    Normal             24          0.010   \n",
       "2     HCMEC        Human       Blood    Normal             24          0.100   \n",
       "3     HCMEC        Human       Blood    Normal             24          1.000   \n",
       "4     HCMEC        Human       Blood    Normal             24          5.000   \n",
       "\n",
       "   Toxicity  \n",
       "0  Nontoxic  \n",
       "1  Nontoxic  \n",
       "2  Nontoxic  \n",
       "3  Nontoxic  \n",
       "4  Nontoxic  "
      ]
     },
     "metadata": {},
     "output_type": "display_data"
    }
   ],
   "source": [
    "df = pd.read_csv(\"datasets/HA3B.csv\")\n",
    "\n",
    "display(df.shape)\n",
    "display(df.head())"
   ]
  },
  {
   "cell_type": "markdown",
   "id": "832b2540",
   "metadata": {},
   "source": [
    "### **Definindo as ``FEATURES`` e o ``TARGET``**"
   ]
  },
  {
   "cell_type": "code",
   "execution_count": 3,
   "id": "55751354",
   "metadata": {},
   "outputs": [],
   "source": [
    "FEATURES_NUM = [\"Core_size\", \n",
    "                \"Hydro_size\", \n",
    "                \"Surface_charge\", \n",
    "                \"Surface_area\", \n",
    "                \"Formation_enthalpy\", \n",
    "                \"Conduction_band\", \n",
    "                \"Valence_band\", \n",
    "                \"Electronegativity\", \n",
    "                \"Exposure_time\", \n",
    "                \"Exposure_dose\"\n",
    "]\n",
    "\n",
    "FEATURES_DUMMY = [\"Material_type\", \"Assay\", \"Cell_name\", \"Cell_species\", \"Cell_origin\", \"Cell_type\"]\n",
    "\n",
    "TARGET = [\"Toxicity\"]"
   ]
  },
  {
   "cell_type": "markdown",
   "id": "d8a1da49",
   "metadata": {},
   "source": [
    "### **Evitando vazamento de dados pelo ``grupby()``**"
   ]
  },
  {
   "cell_type": "markdown",
   "id": "cf13d84b",
   "metadata": {},
   "source": [
    "#### **Arredondando**"
   ]
  },
  {
   "cell_type": "code",
   "execution_count": 4,
   "id": "6b5afe6c",
   "metadata": {},
   "outputs": [
    {
     "data": {
      "text/plain": [
       "(666, 17)"
      ]
     },
     "execution_count": 4,
     "metadata": {},
     "output_type": "execute_result"
    }
   ],
   "source": [
    "casa_arredondamento = {\n",
    "    \"Core_size\": 0, \n",
    "    \"Hydro_size\": 0, \n",
    "    \"Surface_charge\": 0, \n",
    "    \"Surface_area\": 0, \n",
    "    \"Formation_enthalpy\": 0, \n",
    "    \"Conduction_band\": 0,\n",
    "    \"Valence_band\": 0, \n",
    "    \"Electronegativity\": 0, \n",
    "    \"Exposure_time\": 1, \n",
    "    \"Exposure_dose\": 1,\n",
    "}\n",
    "\n",
    "df_round = df.round(casa_arredondamento)\n",
    "\n",
    "df_round.shape"
   ]
  },
  {
   "cell_type": "markdown",
   "id": "44d7a234",
   "metadata": {},
   "source": [
    "Como nós podemos ver pelo código abaixo esse dataset possui alguns dados duplicados"
   ]
  },
  {
   "cell_type": "code",
   "execution_count": 5,
   "id": "eb964f50",
   "metadata": {},
   "outputs": [
    {
     "name": "stdout",
     "output_type": "stream",
     "text": [
      "Número de linhas duplicadas em df_round: 43\n"
     ]
    }
   ],
   "source": [
    "num_duplicados = df_round[FEATURES_NUM + FEATURES_DUMMY].duplicated().sum()\n",
    "print(f\"Número de linhas duplicadas em df_round: {num_duplicados}\")"
   ]
  },
  {
   "cell_type": "markdown",
   "id": "df56d2ef",
   "metadata": {},
   "source": [
    "#### **Agrupando**"
   ]
  },
  {
   "cell_type": "markdown",
   "id": "ce360a28",
   "metadata": {},
   "source": [
    "O [``agg()``](https://pandas.pydata.org/pandas-docs/stable/reference/api/pandas.DataFrame.agg.html) é um método do pandas usado para aplicar uma ou mais operações de agregação em grupos de dados."
   ]
  },
  {
   "cell_type": "code",
   "execution_count": 6,
   "id": "e5173552",
   "metadata": {},
   "outputs": [
    {
     "data": {
      "text/plain": [
       "np.int64(1)"
      ]
     },
     "execution_count": 6,
     "metadata": {},
     "output_type": "execute_result"
    }
   ],
   "source": [
    "from scipy import stats\n",
    "\n",
    "def calcular_moda(serie):\n",
    "    \"\"\"Calcula a moda de uma série, retornando o primeiro valor se não houver moda clara\"\"\"\n",
    "    moda = stats.mode(serie)\n",
    "    return moda[0]\n",
    "\n",
    "calcular_moda([1,1,1,1,9])"
   ]
  },
  {
   "cell_type": "code",
   "execution_count": 7,
   "id": "6124a761",
   "metadata": {},
   "outputs": [
    {
     "name": "stdout",
     "output_type": "stream",
     "text": [
      "O shape (linhas x colunas) do df_round é: (666, 17)\n",
      "O shape (linhas x colunas) do df_tratado é: (623, 17)\n"
     ]
    }
   ],
   "source": [
    "from scipy import stats\n",
    "\n",
    "df_grouped = df_round.groupby(FEATURES_NUM + FEATURES_DUMMY, sort=False)\n",
    "\n",
    "def calcular_moda(serie):\n",
    "    \"\"\"Calcula a moda de uma série\"\"\"\n",
    "    moda = serie.mode()\n",
    "    return moda[0]\n",
    "\n",
    "agg_dict = {\n",
    "    **{col: \"mean\" for col in FEATURES_NUM},\n",
    "    **{col: calcular_moda for col in FEATURES_DUMMY},\n",
    "    \"Toxicity\": calcular_moda\n",
    "}\n",
    "\n",
    "df_grouped = df_grouped.agg(agg_dict)\n",
    "df_grouped = df_grouped.reset_index(drop=True)\n",
    "\n",
    "print(f\"O shape (linhas x colunas) do df_round é: {df_round.shape}\")\n",
    "print(f\"O shape (linhas x colunas) do df_tratado é: {df_grouped.shape}\")"
   ]
  },
  {
   "cell_type": "code",
   "execution_count": 8,
   "id": "5b70b859",
   "metadata": {},
   "outputs": [
    {
     "name": "stdout",
     "output_type": "stream",
     "text": [
      "Número de linhas duplicadas em df_grouped: 0\n"
     ]
    }
   ],
   "source": [
    "num_duplicados = df_grouped[FEATURES_NUM + FEATURES_DUMMY].duplicated().sum()\n",
    "print(f\"Número de linhas duplicadas em df_grouped: {num_duplicados}\")"
   ]
  },
  {
   "cell_type": "markdown",
   "id": "10d0d7ef",
   "metadata": {},
   "source": [
    "Como podemos ver não há mais valores duplicados"
   ]
  },
  {
   "cell_type": "markdown",
   "id": "f21d8933",
   "metadata": {},
   "source": [
    "### **Fazendo a codificação One-Hot**"
   ]
  },
  {
   "cell_type": "code",
   "execution_count": 9,
   "id": "9b40473a",
   "metadata": {},
   "outputs": [
    {
     "data": {
      "text/plain": [
       "(623, 63)"
      ]
     },
     "metadata": {},
     "output_type": "display_data"
    },
    {
     "data": {
      "text/html": [
       "<div>\n",
       "<style scoped>\n",
       "    .dataframe tbody tr th:only-of-type {\n",
       "        vertical-align: middle;\n",
       "    }\n",
       "\n",
       "    .dataframe tbody tr th {\n",
       "        vertical-align: top;\n",
       "    }\n",
       "\n",
       "    .dataframe thead th {\n",
       "        text-align: right;\n",
       "    }\n",
       "</style>\n",
       "<table border=\"1\" class=\"dataframe\">\n",
       "  <thead>\n",
       "    <tr style=\"text-align: right;\">\n",
       "      <th></th>\n",
       "      <th>Core_size</th>\n",
       "      <th>Hydro_size</th>\n",
       "      <th>Surface_charge</th>\n",
       "      <th>Surface_area</th>\n",
       "      <th>Formation_enthalpy</th>\n",
       "      <th>Conduction_band</th>\n",
       "      <th>Valence_band</th>\n",
       "      <th>Electronegativity</th>\n",
       "      <th>Exposure_time</th>\n",
       "      <th>Exposure_dose</th>\n",
       "      <th>...</th>\n",
       "      <th>Cell_species_Mouse</th>\n",
       "      <th>Cell_origin_Blood</th>\n",
       "      <th>Cell_origin_Breast</th>\n",
       "      <th>Cell_origin_Liver</th>\n",
       "      <th>Cell_origin_Lung</th>\n",
       "      <th>Cell_origin_Mesothelium</th>\n",
       "      <th>Cell_origin_Nose</th>\n",
       "      <th>Cell_origin_Skin</th>\n",
       "      <th>Cell_type_Cancer</th>\n",
       "      <th>Cell_type_Normal</th>\n",
       "    </tr>\n",
       "  </thead>\n",
       "  <tbody>\n",
       "    <tr>\n",
       "      <th>0</th>\n",
       "      <td>40.0</td>\n",
       "      <td>267.0</td>\n",
       "      <td>36.0</td>\n",
       "      <td>65.0</td>\n",
       "      <td>-17.0</td>\n",
       "      <td>-2.0</td>\n",
       "      <td>-10.0</td>\n",
       "      <td>6.0</td>\n",
       "      <td>24.0</td>\n",
       "      <td>0.0</td>\n",
       "      <td>...</td>\n",
       "      <td>0</td>\n",
       "      <td>1</td>\n",
       "      <td>0</td>\n",
       "      <td>0</td>\n",
       "      <td>0</td>\n",
       "      <td>0</td>\n",
       "      <td>0</td>\n",
       "      <td>0</td>\n",
       "      <td>0</td>\n",
       "      <td>1</td>\n",
       "    </tr>\n",
       "    <tr>\n",
       "      <th>1</th>\n",
       "      <td>40.0</td>\n",
       "      <td>267.0</td>\n",
       "      <td>36.0</td>\n",
       "      <td>65.0</td>\n",
       "      <td>-17.0</td>\n",
       "      <td>-2.0</td>\n",
       "      <td>-10.0</td>\n",
       "      <td>6.0</td>\n",
       "      <td>24.0</td>\n",
       "      <td>0.1</td>\n",
       "      <td>...</td>\n",
       "      <td>0</td>\n",
       "      <td>1</td>\n",
       "      <td>0</td>\n",
       "      <td>0</td>\n",
       "      <td>0</td>\n",
       "      <td>0</td>\n",
       "      <td>0</td>\n",
       "      <td>0</td>\n",
       "      <td>0</td>\n",
       "      <td>1</td>\n",
       "    </tr>\n",
       "    <tr>\n",
       "      <th>2</th>\n",
       "      <td>40.0</td>\n",
       "      <td>267.0</td>\n",
       "      <td>36.0</td>\n",
       "      <td>65.0</td>\n",
       "      <td>-17.0</td>\n",
       "      <td>-2.0</td>\n",
       "      <td>-10.0</td>\n",
       "      <td>6.0</td>\n",
       "      <td>24.0</td>\n",
       "      <td>1.0</td>\n",
       "      <td>...</td>\n",
       "      <td>0</td>\n",
       "      <td>1</td>\n",
       "      <td>0</td>\n",
       "      <td>0</td>\n",
       "      <td>0</td>\n",
       "      <td>0</td>\n",
       "      <td>0</td>\n",
       "      <td>0</td>\n",
       "      <td>0</td>\n",
       "      <td>1</td>\n",
       "    </tr>\n",
       "    <tr>\n",
       "      <th>3</th>\n",
       "      <td>40.0</td>\n",
       "      <td>267.0</td>\n",
       "      <td>36.0</td>\n",
       "      <td>65.0</td>\n",
       "      <td>-17.0</td>\n",
       "      <td>-2.0</td>\n",
       "      <td>-10.0</td>\n",
       "      <td>6.0</td>\n",
       "      <td>24.0</td>\n",
       "      <td>5.0</td>\n",
       "      <td>...</td>\n",
       "      <td>0</td>\n",
       "      <td>1</td>\n",
       "      <td>0</td>\n",
       "      <td>0</td>\n",
       "      <td>0</td>\n",
       "      <td>0</td>\n",
       "      <td>0</td>\n",
       "      <td>0</td>\n",
       "      <td>0</td>\n",
       "      <td>1</td>\n",
       "    </tr>\n",
       "    <tr>\n",
       "      <th>4</th>\n",
       "      <td>40.0</td>\n",
       "      <td>267.0</td>\n",
       "      <td>36.0</td>\n",
       "      <td>65.0</td>\n",
       "      <td>-17.0</td>\n",
       "      <td>-2.0</td>\n",
       "      <td>-10.0</td>\n",
       "      <td>6.0</td>\n",
       "      <td>24.0</td>\n",
       "      <td>10.0</td>\n",
       "      <td>...</td>\n",
       "      <td>0</td>\n",
       "      <td>1</td>\n",
       "      <td>0</td>\n",
       "      <td>0</td>\n",
       "      <td>0</td>\n",
       "      <td>0</td>\n",
       "      <td>0</td>\n",
       "      <td>0</td>\n",
       "      <td>0</td>\n",
       "      <td>1</td>\n",
       "    </tr>\n",
       "  </tbody>\n",
       "</table>\n",
       "<p>5 rows × 63 columns</p>\n",
       "</div>"
      ],
      "text/plain": [
       "   Core_size  Hydro_size  Surface_charge  Surface_area  Formation_enthalpy  \\\n",
       "0       40.0       267.0            36.0          65.0               -17.0   \n",
       "1       40.0       267.0            36.0          65.0               -17.0   \n",
       "2       40.0       267.0            36.0          65.0               -17.0   \n",
       "3       40.0       267.0            36.0          65.0               -17.0   \n",
       "4       40.0       267.0            36.0          65.0               -17.0   \n",
       "\n",
       "   Conduction_band  Valence_band  Electronegativity  Exposure_time  \\\n",
       "0             -2.0         -10.0                6.0           24.0   \n",
       "1             -2.0         -10.0                6.0           24.0   \n",
       "2             -2.0         -10.0                6.0           24.0   \n",
       "3             -2.0         -10.0                6.0           24.0   \n",
       "4             -2.0         -10.0                6.0           24.0   \n",
       "\n",
       "   Exposure_dose  ... Cell_species_Mouse  Cell_origin_Blood  \\\n",
       "0            0.0  ...                  0                  1   \n",
       "1            0.1  ...                  0                  1   \n",
       "2            1.0  ...                  0                  1   \n",
       "3            5.0  ...                  0                  1   \n",
       "4           10.0  ...                  0                  1   \n",
       "\n",
       "   Cell_origin_Breast  Cell_origin_Liver  Cell_origin_Lung  \\\n",
       "0                   0                  0                 0   \n",
       "1                   0                  0                 0   \n",
       "2                   0                  0                 0   \n",
       "3                   0                  0                 0   \n",
       "4                   0                  0                 0   \n",
       "\n",
       "   Cell_origin_Mesothelium  Cell_origin_Nose  Cell_origin_Skin  \\\n",
       "0                        0                 0                 0   \n",
       "1                        0                 0                 0   \n",
       "2                        0                 0                 0   \n",
       "3                        0                 0                 0   \n",
       "4                        0                 0                 0   \n",
       "\n",
       "   Cell_type_Cancer  Cell_type_Normal  \n",
       "0                 0                 1  \n",
       "1                 0                 1  \n",
       "2                 0                 1  \n",
       "3                 0                 1  \n",
       "4                 0                 1  \n",
       "\n",
       "[5 rows x 63 columns]"
      ]
     },
     "metadata": {},
     "output_type": "display_data"
    }
   ],
   "source": [
    "encoder = OneHotEncoder(sparse_output=False, dtype=np.int32)\n",
    "dummy_encoded = encoder.fit_transform(df_grouped[FEATURES_DUMMY])\n",
    "\n",
    "dummy_columns = encoder.get_feature_names_out(FEATURES_DUMMY)\n",
    "df_dummy = pd.DataFrame(dummy_encoded, columns=dummy_columns, index=df_grouped.index)\n",
    "\n",
    "df_dummy = pd.concat([df_grouped[FEATURES_NUM + TARGET], df_dummy], axis=1)\n",
    "FEATURES_FINAL = FEATURES_NUM + list(dummy_columns)\n",
    "\n",
    "display(df_dummy.shape)\n",
    "display(df_dummy.head(5))"
   ]
  },
  {
   "cell_type": "markdown",
   "id": "59e9e2c1",
   "metadata": {},
   "source": [
    "### **Definindo os dados de treino e de teste**"
   ]
  },
  {
   "cell_type": "code",
   "execution_count": 10,
   "id": "1d1b08f2",
   "metadata": {},
   "outputs": [],
   "source": [
    "TAMANHO_TESTE = 0.25\n",
    "SEED = 404\n",
    "\n",
    "valores_target = df_dummy[TARGET].values.ravel()\n",
    "\n",
    "df_treino, df_teste = train_test_split(df_dummy, test_size=TAMANHO_TESTE, random_state=SEED, stratify=valores_target)\n",
    "\n",
    "X_teste = df_teste.reindex(FEATURES_FINAL, axis=1)\n",
    "y_teste = df_teste.reindex(TARGET, axis=1).values.ravel()\n",
    "\n",
    "X_treino = df_treino.reindex(FEATURES_FINAL, axis=1)\n",
    "y_treino = df_treino.reindex(TARGET, axis=1).values.ravel()"
   ]
  },
  {
   "cell_type": "markdown",
   "id": "e03d5eb3",
   "metadata": {},
   "source": [
    "### **Criando os modelos e espaços de busca**\n",
    "\n",
    "Serão criados os seguintes modelos para comparação:\n",
    "\n",
    "- Baseline (dummyclassifier)\n",
    "- KNN classifier\n",
    "- Decison Tree\n",
    "- Random Florest\n",
    "- SVC\n",
    "- Naive Bayes\n",
    "- Stacking?\n"
   ]
  },
  {
   "cell_type": "markdown",
   "id": "210c32d8",
   "metadata": {},
   "source": [
    "#### **Baseline**\n",
    "\n",
    "O baseline estabelece uma referência mínima de desempenho, onde qualquer modelo útil deve superar essa referência.\n",
    "\n",
    "No caso, foi utilizado o ``DummyClassifier(strategy='most_frequent')``, que prevê sempre a moda dos valores de y."
   ]
  },
  {
   "cell_type": "code",
   "execution_count": 11,
   "id": "ab0e5601",
   "metadata": {},
   "outputs": [
    {
     "data": {
      "text/plain": [
       "0.717948717948718"
      ]
     },
     "execution_count": 11,
     "metadata": {},
     "output_type": "execute_result"
    }
   ],
   "source": [
    "modelo_baseline = DummyClassifier(strategy=\"most_frequent\")\n",
    "\n",
    "modelo_baseline.fit(X_treino, y_treino)\n",
    "\n",
    "y_pred_baseline = modelo_baseline.predict(X_teste)\n",
    "\n",
    "accuracy_baseline = accuracy_score(y_teste, y_pred_baseline)\n",
    "accuracy_baseline"
   ]
  },
  {
   "cell_type": "markdown",
   "id": "d7684c60",
   "metadata": {},
   "source": [
    "#### **Imprementação dos Modelos com o Optuna**\n",
    "O Optuna é um framework de otimização de hiperparâmetros. Ele automatiza o processo de enontrar o conjunto ótimo de hiperparâmetros para um dado modelo, almeando minimizar ou maximizar uma função objetiva específica.\n",
    "\n",
    "No Optuna, os ``Trials`` são as tentativas com diferentes combinações de hiperparâmetros e o ``Study`` é o conjunto de trials para um determinado objetivo.\n",
    "\n",
    "Nesse contexto, a função ``cria_instancia_modelo`` serve para criar uma instância do modelo escolhido, recebendo um trial.\n",
    "Para definir o espaço do dicionário dos parâmetros é usado o ``trial.suggest_*()``.\n",
    "\n",
    "Além disso, foi utilizada a decisão de normalização dos dados como um hiperparâmetro adicional. Para isso foi criado um curto **pipeline** com o ``make_pipeline()``"
   ]
  },
  {
   "cell_type": "markdown",
   "id": "a112195a",
   "metadata": {},
   "source": [
    "#### **Instância K-NN**\n",
    "\n",
    "[explicar sobre o modelo knn]"
   ]
  },
  {
   "cell_type": "code",
   "execution_count": 12,
   "id": "cb30db15",
   "metadata": {},
   "outputs": [],
   "source": [
    "def cria_instancia_knn(trial):\n",
    "    \"\"\"Cria uma instância de um modelo KNN.\"\"\"\n",
    "\n",
    "    parametros = {\n",
    "        \"n_neighbors\": trial.suggest_int(\"num_vizinhos\", 1, 200),\n",
    "        \"weights\": trial.suggest_categorical(\"pesos\", [\"uniform\", \"distance\"]),\n",
    "        \"p\": trial.suggest_int(\"tipo_distancia\", 1, 2),\n",
    "        \"n_jobs\": -1,\n",
    "    }\n",
    "\n",
    "    normalizar = trial.suggest_categorical(\"normalizar\", [True, False])\n",
    "\n",
    "    if normalizar:\n",
    "        tipo_normaliacao = trial.suggest_categorical(\"tipo_norm\", [\"Standard\", \"MinMax\", \"MaxAbs\"])\n",
    "\n",
    "        if tipo_normaliacao == \"Standard\":\n",
    "            normalizador = StandardScaler()\n",
    "        elif tipo_normaliacao == \"MinMax\":\n",
    "            normalizador = MinMaxScaler()\n",
    "        elif tipo_normaliacao == \"MaxAbs\":\n",
    "            normalizador = MaxAbsScaler()\n",
    "            \n",
    "        modelo_knn = make_pipeline(\n",
    "            normalizador,\n",
    "            KNeighborsClassifier(**parametros)\n",
    "        )\n",
    "    \n",
    "    else:\n",
    "        modelo_knn = KNeighborsClassifier(**parametros)\n",
    "\n",
    "\n",
    "    return modelo_knn"
   ]
  },
  {
   "cell_type": "markdown",
   "id": "efd8830c",
   "metadata": {},
   "source": [
    "#### **Instância Árvore de Decisão**\n",
    "\n",
    "[explicar sobre o modelo de árvore de decisão]"
   ]
  },
  {
   "cell_type": "code",
   "execution_count": 13,
   "id": "bf67324b",
   "metadata": {},
   "outputs": [],
   "source": [
    "def cria_instancia_dtree(trial):\n",
    "    \"\"\"Cria a instância de um modelo de árvore de decisão\"\"\"\n",
    "\n",
    "    parametros = {\n",
    "        \"max_depth\": trial.suggest_int(\"profundidade\", 2, 600),\n",
    "        \"criterion\": trial.suggest_categorical(\"critério\", ['entropy', 'log_loss', 'gini']),\n",
    "        \"min_samples_split\": trial.suggest_int(\"min_exemplos_split\", 2, 200),\n",
    "        \"min_samples_leaf\": trial.suggest_int(\"min_exemplos_folha\", 1, 100),\n",
    "        \"max_features\": trial.suggest_float(\"num_max_features\", 0, 1),\n",
    "        \"random_state\": SEED,\n",
    "    }\n",
    "\n",
    "    normalizar = trial.suggest_categorical(\"normalizar\", [True, False])\n",
    "\n",
    "    normalizar = trial.suggest_categorical(\"normalizar\", [True, False])\n",
    "\n",
    "    if normalizar:\n",
    "        tipo_normaliacao = trial.suggest_categorical(\"tipo_norm\", [\"Standard\", \"MinMax\", \"MaxAbs\"])\n",
    "\n",
    "        if tipo_normaliacao == \"Standard\":\n",
    "            normalizador = StandardScaler()\n",
    "        elif tipo_normaliacao == \"MinMax\":\n",
    "            normalizador = MinMaxScaler()\n",
    "        elif tipo_normaliacao == \"MaxAbs\":\n",
    "            normalizador = MaxAbsScaler()\n",
    "            \n",
    "        modelo_dtree = make_pipeline(\n",
    "            normalizador,\n",
    "            DecisionTreeClassifier(**parametros)\n",
    "        )\n",
    "    \n",
    "    else:\n",
    "        modelo_dtree = DecisionTreeClassifier(**parametros)\n",
    "\n",
    "    return modelo_dtree"
   ]
  },
  {
   "cell_type": "markdown",
   "id": "6a13b2a7",
   "metadata": {},
   "source": [
    "### **Função Objetivo**\n",
    "\n",
    "A seguir foi criada a função objetivo que é a função que irá computar a métrica de interesse. Neste caso, a métrica de interesse é [metrica] obtido por validação cruzada."
   ]
  },
  {
   "cell_type": "code",
   "execution_count": 14,
   "id": "4f64401a",
   "metadata": {},
   "outputs": [],
   "source": [
    "def funcao_objetivo(trial, X, y, num_folds, modelo=\"knn\"):\n",
    "    \"\"\"Função objetivo do optuna\"\"\"\n",
    "\n",
    "    if modelo == \"knn\":\n",
    "        modelo = cria_instancia_knn(trial)\n",
    "    elif modelo == \"dtree\":\n",
    "        modelo = cria_instancia_dtree(trial)\n",
    "\n",
    "    metricas = cross_val_score(\n",
    "        modelo, \n",
    "        X, \n",
    "        y, \n",
    "        scoring=\"accuracy\",\n",
    "        cv=num_folds,\n",
    "        )\n",
    "    \n",
    "    return metricas.mean()\n"
   ]
  },
  {
   "cell_type": "markdown",
   "id": "eb0e9059",
   "metadata": {},
   "source": [
    "### **Otimizando os Hiperparâmetros**\n",
    "\n",
    "A seguir foram criados os estudos (conjunto de trials) usando o ``create_study()``, cujo o argumento ``direction='maximizar'`` tem como objetivo minimizar a [métrica]. Foi o utilizado o ``storage`` para armazenar o progreso da busca e o  ``load_if_exists`` para que seja possível continuar a busca de onde ela parou."
   ]
  },
  {
   "cell_type": "code",
   "execution_count": 15,
   "id": "9d78199b",
   "metadata": {},
   "outputs": [
    {
     "name": "stderr",
     "output_type": "stream",
     "text": [
      "[I 2025-10-27 22:45:52,023] Using an existing study with name 'knn_nanotoxiclogia_optuna' instead of creating a new one.\n",
      "[I 2025-10-27 22:45:52,580] A new study created in RDB with name: dtree_nanotoxiclogia_optuna\n"
     ]
    }
   ],
   "source": [
    "NOME_DO_ESTUDO_KNN = \"knn_nanotoxiclogia_optuna\"\n",
    "NOME_DO_ESTUDO_DTREE = \"dtree_nanotoxiclogia_optuna\"\n",
    "\n",
    "objeto_de_estudo_knn = create_study(\n",
    "    direction=\"maximize\",\n",
    "    study_name=NOME_DO_ESTUDO_KNN,\n",
    "    storage=f\"sqlite:///{NOME_DO_ESTUDO_KNN}.db\",\n",
    "    load_if_exists=True,\n",
    ")\n",
    "\n",
    "objeto_de_estudo_dtree = create_study(\n",
    "    direction=\"maximize\",\n",
    "    study_name=NOME_DO_ESTUDO_DTREE,\n",
    "    storage=f\"sqlite:///{NOME_DO_ESTUDO_DTREE}.db\",\n",
    "    load_if_exists=True,\n",
    ")"
   ]
  },
  {
   "cell_type": "markdown",
   "id": "7edf20fa",
   "metadata": {},
   "source": [
    "Para realmente rodar o otimizador precisamos de uma função objetivo que tenha apenas um argumento, o `trial`. Para isso vamos definir a `funcao_objetivo_parcial`.\n",
    "\n",
    "Serão usados ``modelo='modelo'`` para cada modelo e um número de fols na validação cruzada igual a 10."
   ]
  },
  {
   "cell_type": "code",
   "execution_count": 16,
   "id": "27715019",
   "metadata": {},
   "outputs": [],
   "source": [
    "NUM_FOLDS = 10\n",
    "\n",
    "def funcao_objetivo_parcial_knn(trial):\n",
    "    return funcao_objetivo(trial, X_treino, y_treino, NUM_FOLDS, modelo=\"knn\")\n",
    "\n",
    "def funcao_objetivo_parcial_dtree(trial):\n",
    "    return funcao_objetivo(trial, X_treino, y_treino, NUM_FOLDS, modelo=\"dtree\")"
   ]
  },
  {
   "cell_type": "markdown",
   "id": "2fdd3d69",
   "metadata": {},
   "source": [
    "Agora podemos definiro o número de novos trials e rodar cada otimização de modelo separadamente."
   ]
  },
  {
   "cell_type": "code",
   "execution_count": null,
   "id": "f3622265",
   "metadata": {},
   "outputs": [],
   "source": [
    "NUM_TENTATIVAS = 3\n",
    "objeto_de_estudo_knn.optimize(funcao_objetivo_parcial_knn, n_trials=NUM_TENTATIVAS)"
   ]
  },
  {
   "cell_type": "code",
   "execution_count": null,
   "id": "4bcc79ba",
   "metadata": {},
   "outputs": [
    {
     "name": "stderr",
     "output_type": "stream",
     "text": [
      "[I 2025-10-27 22:46:21,073] Trial 20 finished with value: 0.7259944495837187 and parameters: {'profundidade': 224, 'critério': 'gini', 'min_exemplos_split': 198, 'min_exemplos_folha': 89, 'num_max_features': 0.7915300025730188, 'normalizar': True, 'tipo_norm': 'MaxAbs'}. Best is trial 6 with value: 0.8413043478260871.\n",
      "[I 2025-10-27 22:46:21,310] Trial 21 finished with value: 0.719472710453284 and parameters: {'profundidade': 464, 'critério': 'entropy', 'min_exemplos_split': 81, 'min_exemplos_folha': 71, 'num_max_features': 0.40196718631749484, 'normalizar': True, 'tipo_norm': 'MaxAbs'}. Best is trial 6 with value: 0.8413043478260871.\n",
      "[I 2025-10-27 22:46:21,552] Trial 22 finished with value: 0.7644773358001851 and parameters: {'profundidade': 558, 'critério': 'entropy', 'min_exemplos_split': 89, 'min_exemplos_folha': 61, 'num_max_features': 0.3578434593203361, 'normalizar': True, 'tipo_norm': 'MaxAbs'}. Best is trial 6 with value: 0.8413043478260871.\n",
      "[I 2025-10-27 22:46:21,791] Trial 23 finished with value: 0.8306660499537466 and parameters: {'profundidade': 443, 'critério': 'entropy', 'min_exemplos_split': 56, 'min_exemplos_folha': 75, 'num_max_features': 0.5249223234227813, 'normalizar': True, 'tipo_norm': 'MaxAbs'}. Best is trial 6 with value: 0.8413043478260871.\n",
      "[I 2025-10-27 22:46:22,021] Trial 24 finished with value: 0.719472710453284 and parameters: {'profundidade': 512, 'critério': 'entropy', 'min_exemplos_split': 113, 'min_exemplos_folha': 82, 'num_max_features': 0.1636470317084061, 'normalizar': True, 'tipo_norm': 'MaxAbs'}. Best is trial 6 with value: 0.8413043478260871.\n",
      "[I 2025-10-27 22:46:22,278] Trial 25 finished with value: 0.719472710453284 and parameters: {'profundidade': 363, 'critério': 'entropy', 'min_exemplos_split': 63, 'min_exemplos_folha': 69, 'num_max_features': 0.46576199966295057, 'normalizar': True, 'tipo_norm': 'MinMax'}. Best is trial 6 with value: 0.8413043478260871.\n",
      "[I 2025-10-27 22:46:22,506] Trial 26 finished with value: 0.7303422756706752 and parameters: {'profundidade': 416, 'critério': 'entropy', 'min_exemplos_split': 89, 'min_exemplos_folha': 55, 'num_max_features': 0.34240904945669703, 'normalizar': False}. Best is trial 6 with value: 0.8413043478260871.\n",
      "[I 2025-10-27 22:46:22,745] Trial 27 finished with value: 0.7921369102682702 and parameters: {'profundidade': 120, 'critério': 'entropy', 'min_exemplos_split': 33, 'min_exemplos_folha': 92, 'num_max_features': 0.633765735632108, 'normalizar': True, 'tipo_norm': 'MaxAbs'}. Best is trial 6 with value: 0.8413043478260871.\n",
      "[I 2025-10-27 22:46:22,949] Trial 28 finished with value: 0.7344588344125808 and parameters: {'profundidade': 309, 'critério': 'log_loss', 'min_exemplos_split': 156, 'min_exemplos_folha': 77, 'num_max_features': 0.11195047610136244, 'normalizar': False}. Best is trial 6 with value: 0.8413043478260871.\n",
      "[I 2025-10-27 22:46:23,187] Trial 29 finished with value: 0.8176688251618872 and parameters: {'profundidade': 266, 'critério': 'gini', 'min_exemplos_split': 141, 'min_exemplos_folha': 45, 'num_max_features': 0.5335687560847051, 'normalizar': True, 'tipo_norm': 'MaxAbs'}. Best is trial 6 with value: 0.8413043478260871.\n",
      "[I 2025-10-27 22:46:23,431] Trial 30 finished with value: 0.8072617946345977 and parameters: {'profundidade': 472, 'critério': 'entropy', 'min_exemplos_split': 92, 'min_exemplos_folha': 85, 'num_max_features': 0.8328742582429951, 'normalizar': True, 'tipo_norm': 'Standard'}. Best is trial 6 with value: 0.8413043478260871.\n",
      "[I 2025-10-27 22:46:23,635] Trial 31 finished with value: 0.719472710453284 and parameters: {'profundidade': 532, 'critério': 'entropy', 'min_exemplos_split': 175, 'min_exemplos_folha': 65, 'num_max_features': 0.5516103132074712, 'normalizar': False}. Best is trial 6 with value: 0.8413043478260871.\n",
      "[I 2025-10-27 22:46:23,857] Trial 32 finished with value: 0.719472710453284 and parameters: {'profundidade': 509, 'critério': 'entropy', 'min_exemplos_split': 120, 'min_exemplos_folha': 71, 'num_max_features': 0.6646472173636253, 'normalizar': False}. Best is trial 6 with value: 0.8413043478260871.\n",
      "[I 2025-10-27 22:46:24,055] Trial 33 finished with value: 0.8370490286771508 and parameters: {'profundidade': 563, 'critério': 'entropy', 'min_exemplos_split': 170, 'min_exemplos_folha': 61, 'num_max_features': 0.31947549843823153, 'normalizar': False}. Best is trial 6 with value: 0.8413043478260871.\n",
      "[I 2025-10-27 22:46:24,257] Trial 34 finished with value: 0.719472710453284 and parameters: {'profundidade': 600, 'critério': 'log_loss', 'min_exemplos_split': 200, 'min_exemplos_folha': 59, 'num_max_features': 0.3168567738176378, 'normalizar': False}. Best is trial 6 with value: 0.8413043478260871.\n",
      "[I 2025-10-27 22:46:24,476] Trial 35 finished with value: 0.7643385753931545 and parameters: {'profundidade': 564, 'critério': 'entropy', 'min_exemplos_split': 135, 'min_exemplos_folha': 63, 'num_max_features': 0.18541030287450794, 'normalizar': False}. Best is trial 6 with value: 0.8413043478260871.\n",
      "[I 2025-10-27 22:46:24,716] Trial 36 finished with value: 0.7130897317298797 and parameters: {'profundidade': 488, 'critério': 'entropy', 'min_exemplos_split': 160, 'min_exemplos_folha': 44, 'num_max_features': 0.40484530916135253, 'normalizar': True, 'tipo_norm': 'MinMax'}. Best is trial 6 with value: 0.8413043478260871.\n",
      "[I 2025-10-27 22:46:24,913] Trial 37 finished with value: 0.8370490286771508 and parameters: {'profundidade': 436, 'critério': 'log_loss', 'min_exemplos_split': 78, 'min_exemplos_folha': 73, 'num_max_features': 0.4785133965910787, 'normalizar': False}. Best is trial 6 with value: 0.8413043478260871.\n",
      "[I 2025-10-27 22:46:25,178] Trial 38 finished with value: 0.8179000925069382 and parameters: {'profundidade': 564, 'critério': 'entropy', 'min_exemplos_split': 164, 'min_exemplos_folha': 55, 'num_max_features': 0.9865165306245791, 'normalizar': True, 'tipo_norm': 'MaxAbs'}. Best is trial 6 with value: 0.8413043478260871.\n",
      "[I 2025-10-27 22:46:25,374] Trial 39 finished with value: 0.7813598519888991 and parameters: {'profundidade': 347, 'critério': 'gini', 'min_exemplos_split': 48, 'min_exemplos_folha': 17, 'num_max_features': 0.31302408312264884, 'normalizar': False}. Best is trial 6 with value: 0.8413043478260871.\n"
     ]
    }
   ],
   "source": [
    "NUM_TENTATIVAS = 3\n",
    "objeto_de_estudo_dtree.optimize(funcao_objetivo_parcial_dtree, n_trials=NUM_TENTATIVAS)"
   ]
  },
  {
   "cell_type": "markdown",
   "id": "736fff7d",
   "metadata": {},
   "source": [
    "### **Vizualizando os Resultados**\n",
    "\n",
    "Agora podemos analizar o foi obtido com cada modelo e a partir disso definir qual deles teve o melhor resultado."
   ]
  },
  {
   "cell_type": "markdown",
   "id": "7f1697cd",
   "metadata": {},
   "source": [
    "#### **Resultado K-NN:**"
   ]
  },
  {
   "cell_type": "code",
   "execution_count": 19,
   "id": "e4053b25",
   "metadata": {},
   "outputs": [
    {
     "name": "stdout",
     "output_type": "stream",
     "text": [
      "Número do melhor trial K-NN: 17\n",
      "Parâmetros do melhor trial : {'num_vizinhos': 2, 'pesos': 'distance', 'tipo_distancia': 1, 'normalizar': False}\n"
     ]
    }
   ],
   "source": [
    "melhor_trial_knn = objeto_de_estudo_knn.best_trial\n",
    "\n",
    "print(f\"Número do melhor trial K-NN: {melhor_trial_knn.number}\")\n",
    "print(f\"Parâmetros do melhor trial : {melhor_trial_knn.params}\")"
   ]
  },
  {
   "cell_type": "markdown",
   "id": "4079f295",
   "metadata": {},
   "source": [
    "#### **Resultado Árvore de Decisão:**"
   ]
  },
  {
   "cell_type": "code",
   "execution_count": 21,
   "id": "18191687",
   "metadata": {},
   "outputs": [
    {
     "name": "stdout",
     "output_type": "stream",
     "text": [
      "Número do melhor trial da Árvore de Decisão: 6\n",
      "Parâmetros do melhor trial da Árvore de Decisão: {'profundidade': 91, 'critério': 'gini', 'min_exemplos_split': 110, 'min_exemplos_folha': 76, 'num_max_features': 0.9539556990162101, 'normalizar': True, 'tipo_norm': 'MaxAbs'}\n"
     ]
    }
   ],
   "source": [
    "melhor_trial_dtree = objeto_de_estudo_dtree.best_trial\n",
    "\n",
    "print(f\"Número do melhor trial da Árvore de Decisão: {melhor_trial_dtree.number}\")\n",
    "print(f\"Parâmetros do melhor trial da Árvore de Decisão: {melhor_trial_dtree.params}\")"
   ]
  }
 ],
 "metadata": {
  "kernelspec": {
   "display_name": "base",
   "language": "python",
   "name": "python3"
  },
  "language_info": {
   "codemirror_mode": {
    "name": "ipython",
    "version": 3
   },
   "file_extension": ".py",
   "mimetype": "text/x-python",
   "name": "python",
   "nbconvert_exporter": "python",
   "pygments_lexer": "ipython3",
   "version": "3.12.7"
  }
 },
 "nbformat": 4,
 "nbformat_minor": 5
}
